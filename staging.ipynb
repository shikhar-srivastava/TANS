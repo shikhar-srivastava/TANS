{
 "cells": [
  {
   "cell_type": "code",
   "execution_count": 1,
   "metadata": {},
   "outputs": [],
   "source": [
    "import torchvision.models.resnet as resnet\n",
    "import torch \n",
    "import torch.nn as nn"
   ]
  },
  {
   "cell_type": "code",
   "execution_count": null,
   "metadata": {},
   "outputs": [],
   "source": [
    "import torch.nn as nn\n",
    "import torch\n",
    "class GenericArch2Config(nn.Module):\n",
    "    '''\n",
    "        A class to iterate the parameters of a neural net and generate a configuration from it.\n",
    "    '''\n",
    "    def __init__(self, model, n_layers=3, n_dim=100, device='cuda:0'):\n",
    "        super(GenericArch2Config, self).__init__()\n",
    "        self.model = model\n",
    "        self.n_layers = n_layers\n",
    "        self.n_dim = n_dim\n",
    "        self.device = device\n",
    "        layers = []\n",
    "        for i in range(self.n_layers):\n",
    "            layers.append(nn.Sequential(\n",
    "                nn.Linear(self, self.n_dim if i == 0 else self.hidden_size),\n",
    "                nn.ReLU(inplace=True),\n",
    "            ))\n",
    "        self.layers = nn.Sequential(*layers)\n",
    "        self.base_acc = nn.Parameter(torch.zeros(1, device=self.device), requires_grad=False)\n",
    "\n",
    "    def forward(self, x):\n",
    "        "
   ]
  }
 ],
 "metadata": {
  "interpreter": {
   "hash": "38470bdf3e966986ca85f0825073bcf86ddf5dbb9002a7f4b160e6f6a6aff5a0"
  },
  "kernelspec": {
   "display_name": "Python 3.8.12 ('ofa')",
   "language": "python",
   "name": "python3"
  },
  "language_info": {
   "codemirror_mode": {
    "name": "ipython",
    "version": 3
   },
   "file_extension": ".py",
   "mimetype": "text/x-python",
   "name": "python",
   "nbconvert_exporter": "python",
   "pygments_lexer": "ipython3",
   "version": "3.8.12"
  },
  "orig_nbformat": 4
 },
 "nbformat": 4,
 "nbformat_minor": 2
}
