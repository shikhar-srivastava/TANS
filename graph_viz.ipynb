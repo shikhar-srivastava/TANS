{
 "cells": [
  {
   "cell_type": "code",
   "execution_count": 29,
   "metadata": {},
   "outputs": [],
   "source": [
    "js_script = \"\"\"\n",
    "var svg = d3.select(\"svg\"),\n",
    "    width = +svg.attr(\"width\"),\n",
    "    height = +svg.attr(\"height\");\n",
    "\n",
    "var color = d3.scaleOrdinal(d3.schemeCategory20);\n",
    "\n",
    "var simulation = d3.forceSimulation()\n",
    "    .force(\"link\", d3.forceLink().id(function(d) { return d.id; }))\n",
    "    .force(\"charge\", d3.forceManyBody())\n",
    "    .force(\"center\", d3.forceCenter(width / 2, height / 2));\n",
    "\n",
    "d3.json(\"miserables.json\", function(error, graph) {\n",
    "  if (error) throw error;\n",
    "\n",
    "  var link = svg.append(\"g\")\n",
    "      .attr(\"class\", \"links\")\n",
    "    .selectAll(\"line\")\n",
    "    .data(graph.links)\n",
    "    .enter().append(\"line\")\n",
    "      .attr(\"stroke-width\", function(d) { return Math.sqrt(d.value); });\n",
    "\n",
    "  var node = svg.append(\"g\")\n",
    "      .attr(\"class\", \"nodes\")\n",
    "    .selectAll(\"g\")\n",
    "    .data(graph.nodes)\n",
    "    .enter().append(\"g\")\n",
    "\n",
    "  var circles = node.append(\"circle\")\n",
    "    .attr(\"r\", 5)\n",
    "    .attr(\"fill\", function(d) { return color(d.group); });\n",
    "\n",
    "  // Create a drag handler and append it to the node object instead\n",
    "  var drag_handler = d3.drag()\n",
    "      .on(\"start\", dragstarted)\n",
    "      .on(\"drag\", dragged)\n",
    "      .on(\"end\", dragended);\n",
    "\n",
    "  drag_handler(node);\n",
    "  \n",
    "  var lables = node.append(\"text\")\n",
    "      .text(function(d) {\n",
    "        return d.id;\n",
    "      })\n",
    "      .attr('x', 6)\n",
    "      .attr('y', 3);\n",
    "\n",
    "  node.append(\"title\")\n",
    "      .text(function(d) { return d.id; });\n",
    "\n",
    "  simulation\n",
    "      .nodes(graph.nodes)\n",
    "      .on(\"tick\", ticked);\n",
    "\n",
    "  simulation.force(\"link\")\n",
    "      .links(graph.links);\n",
    "\n",
    "  function ticked() {\n",
    "    link\n",
    "        .attr(\"x1\", function(d) { return d.source.x; })\n",
    "        .attr(\"y1\", function(d) { return d.source.y; })\n",
    "        .attr(\"x2\", function(d) { return d.target.x; })\n",
    "        .attr(\"y2\", function(d) { return d.target.y; });\n",
    "\n",
    "    node\n",
    "        .attr(\"transform\", function(d) {\n",
    "          return \"translate(\" + d.x + \",\" + d.y + \")\";\n",
    "        })\n",
    "  }\n",
    "});\n",
    "\n",
    "function dragstarted(d) {\n",
    "  if (!d3.event.active) simulation.alphaTarget(0.3).restart();\n",
    "  d.fx = d.x;\n",
    "  d.fy = d.y;\n",
    "}\n",
    "\n",
    "function dragged(d) {\n",
    "  d.fx = d3.event.x;\n",
    "  d.fy = d3.event.y;\n",
    "}\n",
    "\n",
    "function dragended(d) {\n",
    "  if (!d3.event.active) simulation.alphaTarget(0);\n",
    "  d.fx = null;\n",
    "  d.fy = null;\n",
    "}\n",
    "\"\"\""
   ]
  },
  {
   "cell_type": "code",
   "execution_count": 33,
   "metadata": {},
   "outputs": [
    {
     "name": "stderr",
     "output_type": "stream",
     "text": [
      "/bin/sh: 1: node: not found\n"
     ]
    },
    {
     "ename": "AssertionError",
     "evalue": "You must have node installed! run: brew install node",
     "output_type": "error",
     "traceback": [
      "\u001b[0;31m---------------------------------------------------------------------------\u001b[0m",
      "\u001b[0;31mAssertionError\u001b[0m                            Traceback (most recent call last)",
      "\u001b[0;32m/tmp/ipykernel_6344/922706350.py\u001b[0m in \u001b[0;36m<module>\u001b[0;34m\u001b[0m\n\u001b[1;32m      1\u001b[0m \u001b[0;32mimport\u001b[0m \u001b[0mjs2py\u001b[0m\u001b[0;34m\u001b[0m\u001b[0;34m\u001b[0m\u001b[0m\n\u001b[1;32m      2\u001b[0m \u001b[0;31m#js_script.replace(\"document.write\", \"return\")\u001b[0m\u001b[0;34m\u001b[0m\u001b[0;34m\u001b[0m\u001b[0;34m\u001b[0m\u001b[0m\n\u001b[0;32m----> 3\u001b[0;31m \u001b[0md3\u001b[0m \u001b[0;34m=\u001b[0m \u001b[0mjs2py\u001b[0m\u001b[0;34m.\u001b[0m\u001b[0mrequire\u001b[0m\u001b[0;34m(\u001b[0m\u001b[0;34m'https://d3js.org/d3.v4.min.js'\u001b[0m\u001b[0;34m)\u001b[0m\u001b[0;34m\u001b[0m\u001b[0;34m\u001b[0m\u001b[0m\n\u001b[0m\u001b[1;32m      4\u001b[0m \u001b[0mnode\u001b[0m \u001b[0;34m=\u001b[0m \u001b[0mjs2p\u001b[0m\u001b[0;34m.\u001b[0m\u001b[0mrequire\u001b[0m\u001b[0;34m(\u001b[0m\u001b[0;34m'fs'\u001b[0m\u001b[0;34m)\u001b[0m\u001b[0;34m\u001b[0m\u001b[0;34m\u001b[0m\u001b[0m\n\u001b[1;32m      5\u001b[0m \u001b[0mresult\u001b[0m \u001b[0;34m=\u001b[0m \u001b[0mjs2py\u001b[0m\u001b[0;34m.\u001b[0m\u001b[0meval_js\u001b[0m\u001b[0;34m(\u001b[0m\u001b[0mjs_script\u001b[0m\u001b[0;34m,\u001b[0m \u001b[0;34m'./js_translated.py'\u001b[0m\u001b[0;34m)\u001b[0m  \u001b[0;31m# executing JavaScript and converting the result to python string\u001b[0m\u001b[0;34m\u001b[0m\u001b[0;34m\u001b[0m\u001b[0m\n",
      "\u001b[0;32m~/miniconda3/envs/ofa/lib/python3.8/site-packages/js2py/node_import.py\u001b[0m in \u001b[0;36mrequire\u001b[0;34m(module_name, include_polyfill, update, context)\u001b[0m\n\u001b[1;32m    153\u001b[0m     \u001b[0mmodule_name\u001b[0m\u001b[0;34m,\u001b[0m \u001b[0mmaybe_version\u001b[0m \u001b[0;34m=\u001b[0m \u001b[0;34m(\u001b[0m\u001b[0mmodule_name\u001b[0m\u001b[0;34m+\u001b[0m\u001b[0;34m\"@@@\"\u001b[0m\u001b[0;34m)\u001b[0m\u001b[0;34m.\u001b[0m\u001b[0msplit\u001b[0m\u001b[0;34m(\u001b[0m\u001b[0;34m'@'\u001b[0m\u001b[0;34m)\u001b[0m\u001b[0;34m[\u001b[0m\u001b[0;34m:\u001b[0m\u001b[0;36m2\u001b[0m\u001b[0;34m]\u001b[0m\u001b[0;34m\u001b[0m\u001b[0;34m\u001b[0m\u001b[0m\n\u001b[1;32m    154\u001b[0m \u001b[0;34m\u001b[0m\u001b[0m\n\u001b[0;32m--> 155\u001b[0;31m     py_code = _get_and_translate_npm_module(module_name, include_polyfill=include_polyfill, update=update,\n\u001b[0m\u001b[1;32m    156\u001b[0m                                             maybe_version_str=maybe_version)\n\u001b[1;32m    157\u001b[0m     \u001b[0;31m# this is a bit hacky but we need to strip the default header from the generated code...\u001b[0m\u001b[0;34m\u001b[0m\u001b[0;34m\u001b[0m\u001b[0;34m\u001b[0m\u001b[0m\n",
      "\u001b[0;32m~/miniconda3/envs/ofa/lib/python3.8/site-packages/js2py/node_import.py\u001b[0m in \u001b[0;36m_get_and_translate_npm_module\u001b[0;34m(module_name, include_polyfill, update, maybe_version_str)\u001b[0m\n\u001b[1;32m     75\u001b[0m     if not os.path.exists(os.path.join(PY_NODE_MODULES_PATH,\n\u001b[1;32m     76\u001b[0m                                        module_filename)) or update:\n\u001b[0;32m---> 77\u001b[0;31m         \u001b[0m_init\u001b[0m\u001b[0;34m(\u001b[0m\u001b[0;34m)\u001b[0m\u001b[0;34m\u001b[0m\u001b[0;34m\u001b[0m\u001b[0m\n\u001b[0m\u001b[1;32m     78\u001b[0m         \u001b[0mmodule_hash\u001b[0m \u001b[0;34m=\u001b[0m \u001b[0mhashlib\u001b[0m\u001b[0;34m.\u001b[0m\u001b[0msha1\u001b[0m\u001b[0;34m(\u001b[0m\u001b[0mmodule_name\u001b[0m\u001b[0;34m.\u001b[0m\u001b[0mencode\u001b[0m\u001b[0;34m(\u001b[0m\u001b[0;34m\"utf-8\"\u001b[0m\u001b[0;34m)\u001b[0m\u001b[0;34m)\u001b[0m\u001b[0;34m.\u001b[0m\u001b[0mhexdigest\u001b[0m\u001b[0;34m(\u001b[0m\u001b[0;34m)\u001b[0m\u001b[0;34m[\u001b[0m\u001b[0;34m:\u001b[0m\u001b[0;36m15\u001b[0m\u001b[0;34m]\u001b[0m\u001b[0;34m\u001b[0m\u001b[0;34m\u001b[0m\u001b[0m\n\u001b[1;32m     79\u001b[0m         \u001b[0mversion\u001b[0m \u001b[0;34m=\u001b[0m \u001b[0mrandom\u001b[0m\u001b[0;34m.\u001b[0m\u001b[0mrandrange\u001b[0m\u001b[0;34m(\u001b[0m\u001b[0;36m10000000000000\u001b[0m\u001b[0;34m)\u001b[0m\u001b[0;34m\u001b[0m\u001b[0;34m\u001b[0m\u001b[0m\n",
      "\u001b[0;32m~/miniconda3/envs/ofa/lib/python3.8/site-packages/js2py/node_import.py\u001b[0m in \u001b[0;36m_init\u001b[0;34m()\u001b[0m\n\u001b[1;32m     18\u001b[0m     \u001b[0;32mif\u001b[0m \u001b[0mDID_INIT\u001b[0m\u001b[0;34m:\u001b[0m\u001b[0;34m\u001b[0m\u001b[0;34m\u001b[0m\u001b[0m\n\u001b[1;32m     19\u001b[0m         \u001b[0;32mreturn\u001b[0m\u001b[0;34m\u001b[0m\u001b[0;34m\u001b[0m\u001b[0m\n\u001b[0;32m---> 20\u001b[0;31m     assert subprocess.call(\n\u001b[0m\u001b[1;32m     21\u001b[0m         \u001b[0;34m'node -v'\u001b[0m\u001b[0;34m,\u001b[0m \u001b[0mshell\u001b[0m\u001b[0;34m=\u001b[0m\u001b[0;32mTrue\u001b[0m\u001b[0;34m,\u001b[0m \u001b[0mcwd\u001b[0m\u001b[0;34m=\u001b[0m\u001b[0mDIRNAME\u001b[0m\u001b[0;34m\u001b[0m\u001b[0;34m\u001b[0m\u001b[0m\n\u001b[1;32m     22\u001b[0m     ) == 0, 'You must have node installed! run: brew install node'\n",
      "\u001b[0;31mAssertionError\u001b[0m: You must have node installed! run: brew install node"
     ]
    }
   ],
   "source": [
    "import js2py\n",
    "#js_script.replace(\"document.write\", \"return\")\n",
    "d3 = js2py.require('https://d3js.org/d3.v4.min.js')\n",
    "fs = js2p.require('fs')\n",
    "result = js2py.eval_js(js_script, './js_translated.py')  # executing JavaScript and converting the result to python string "
   ]
  },
  {
   "cell_type": "code",
   "execution_count": null,
   "metadata": {},
   "outputs": [],
   "source": []
  },
  {
   "cell_type": "code",
   "execution_count": null,
   "metadata": {},
   "outputs": [],
   "source": []
  }
 ],
 "metadata": {
  "interpreter": {
   "hash": "38470bdf3e966986ca85f0825073bcf86ddf5dbb9002a7f4b160e6f6a6aff5a0"
  },
  "kernelspec": {
   "display_name": "Python 3.8.12 ('ofa')",
   "language": "python",
   "name": "python3"
  },
  "language_info": {
   "codemirror_mode": {
    "name": "ipython",
    "version": 3
   },
   "file_extension": ".py",
   "mimetype": "text/x-python",
   "name": "python",
   "nbconvert_exporter": "python",
   "pygments_lexer": "ipython3",
   "version": "3.8.12"
  },
  "orig_nbformat": 4
 },
 "nbformat": 4,
 "nbformat_minor": 2
}
